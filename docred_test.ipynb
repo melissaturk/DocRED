{
 "cells": [
  {
   "cell_type": "code",
   "execution_count": 1,
   "id": "0d5e5e60",
   "metadata": {},
   "outputs": [],
   "source": [
    "import os\n",
    "import json\n",
    "import torch, json\n",
    "\n",
    "base_path = '/media/melissa/EXTERNAL_USB/docred_output' \n",
    "\n",
    "pred_path = os.path.join(base_path, \"predictions.jsonl\")\n",
    "test_path = os.path.join(base_path, \"test.pt\")"
   ]
  },
  {
   "cell_type": "code",
   "execution_count": 2,
   "id": "b468f256",
   "metadata": {},
   "outputs": [],
   "source": [
    "def load_dataset(path):\n",
    "    with open(path, 'r', encoding='utf-8') as f:\n",
    "        return json.load(f)"
   ]
  },
  {
   "cell_type": "code",
   "execution_count": 3,
   "id": "bd50d87e",
   "metadata": {},
   "outputs": [
    {
     "name": "stderr",
     "output_type": "stream",
     "text": [
      "/tmp/ipykernel_16031/343780022.py:1: FutureWarning: You are using `torch.load` with `weights_only=False` (the current default value), which uses the default pickle module implicitly. It is possible to construct malicious pickle data which will execute arbitrary code during unpickling (See https://github.com/pytorch/pytorch/blob/main/SECURITY.md#untrusted-models for more details). In a future release, the default value for `weights_only` will be flipped to `True`. This limits the functions that could be executed during unpickling. Arbitrary objects will no longer be allowed to be loaded via this mode unless they are explicitly allowlisted by the user via `torch.serialization.add_safe_globals`. We recommend you start setting `weights_only=True` for any use case where you don't have full control of the loaded file. Please open an issue on GitHub for any issues related to this experimental feature.\n",
      "  test = torch.load(test_path)\n"
     ]
    }
   ],
   "source": [
    "test = torch.load(test_path)"
   ]
  },
  {
   "cell_type": "code",
   "execution_count": 4,
   "id": "f89ee758",
   "metadata": {},
   "outputs": [],
   "source": [
    "predictions = []\n",
    "with open(pred_path, \"r\") as f:\n",
    "    for line in f:\n",
    "        predictions.append(json.loads(line))\n"
   ]
  },
  {
   "cell_type": "code",
   "execution_count": 5,
   "id": "caba87b1",
   "metadata": {},
   "outputs": [],
   "source": [
    "# Ground truth\n",
    "title_to_gold = {\n",
    "    item[\"title\"]: set(\n",
    "        tuple(label) for label in item.get(\"labels\", [])\n",
    "        if label[2] != 0  # filter out NA\n",
    "    )\n",
    "    for item in test\n",
    "}\n",
    "\n",
    "\n",
    "title_to_pred = {\n",
    "    item[\"title\"]: set(\n",
    "        tuple(label) for label in item.get(\"labels\", [])\n",
    "        if label[2] != 0  # filter out NA\n",
    "    )\n",
    "    for item in predictions\n",
    "}"
   ]
  },
  {
   "cell_type": "code",
   "execution_count": 6,
   "id": "aa184e3a",
   "metadata": {},
   "outputs": [
    {
     "name": "stdout",
     "output_type": "stream",
     "text": [
      "Total predicted relations (excluding NA): 3384\n",
      "Total gold (ground-truth) relations: 85932\n"
     ]
    }
   ],
   "source": [
    "total_preds = sum(len(v) for v in title_to_pred.values())\n",
    "print(\"Total predicted relations (excluding NA):\", total_preds)\n",
    "total_golds = sum(len(v) for v in title_to_gold.values())\n",
    "print(\"Total gold (ground-truth) relations:\", total_golds)\n"
   ]
  },
  {
   "cell_type": "code",
   "execution_count": 7,
   "id": "21b799bc",
   "metadata": {},
   "outputs": [
    {
     "data": {
      "text/plain": [
       "3053"
      ]
     },
     "execution_count": 7,
     "metadata": {},
     "output_type": "execute_result"
    }
   ],
   "source": [
    "len(title_to_pred)"
   ]
  },
  {
   "cell_type": "code",
   "execution_count": 8,
   "id": "9081bf4f",
   "metadata": {},
   "outputs": [
    {
     "data": {
      "text/plain": [
       "3053"
      ]
     },
     "execution_count": 8,
     "metadata": {},
     "output_type": "execute_result"
    }
   ],
   "source": [
    "len(title_to_gold)"
   ]
  },
  {
   "cell_type": "code",
   "execution_count": 9,
   "id": "7be48070",
   "metadata": {},
   "outputs": [
    {
     "name": "stdout",
     "output_type": "stream",
     "text": [
      "Precision: 0.0050\n",
      "Recall:    0.0002\n",
      "F1 Score:  0.0004\n"
     ]
    }
   ],
   "source": [
    "tp = 0\n",
    "fp = 0\n",
    "fn = 0\n",
    "\n",
    "for title in title_to_gold:\n",
    "    gold = title_to_gold.get(title, set())\n",
    "    pred = title_to_pred.get(title, set())\n",
    "    \n",
    "    tp += len(gold & pred)\n",
    "    fp += len(pred - gold)\n",
    "    fn += len(gold - pred)\n",
    "\n",
    "precision = tp / (tp + fp + 1e-10)\n",
    "recall = tp / (tp + fn + 1e-10)\n",
    "f1 = 2 * precision * recall / (precision + recall + 1e-10)\n",
    "\n",
    "print(f\"Precision: {precision:.4f}\")\n",
    "print(f\"Recall:    {recall:.4f}\")\n",
    "print(f\"F1 Score:  {f1:.4f}\")\n"
   ]
  },
  {
   "cell_type": "code",
   "execution_count": 10,
   "id": "00968f3c",
   "metadata": {},
   "outputs": [
    {
     "name": "stdout",
     "output_type": "stream",
     "text": [
      "Total gold: 85932\n",
      "Total predicted: 3384\n",
      "Overlapping (TP): 17\n"
     ]
    }
   ],
   "source": [
    "total_gold = sum(len(v) for v in title_to_gold.values())\n",
    "total_pred = sum(len(v) for v in title_to_pred.values())\n",
    "overlap = sum(len(title_to_gold[title] & title_to_pred[title]) for title in title_to_gold)\n",
    "\n",
    "print(f\"Total gold: {total_gold}\")\n",
    "print(f\"Total predicted: {total_pred}\")\n",
    "print(f\"Overlapping (TP): {overlap}\")\n"
   ]
  },
  {
   "cell_type": "code",
   "execution_count": 12,
   "id": "16f1c78d",
   "metadata": {},
   "outputs": [
    {
     "ename": "NameError",
     "evalue": "name 'train' is not defined",
     "output_type": "error",
     "traceback": [
      "\u001b[0;31m---------------------------------------------------------------------------\u001b[0m",
      "\u001b[0;31mNameError\u001b[0m                                 Traceback (most recent call last)",
      "Cell \u001b[0;32mIn[12], line 4\u001b[0m\n\u001b[1;32m      1\u001b[0m \u001b[38;5;28;01mfrom\u001b[39;00m \u001b[38;5;21;01mcollections\u001b[39;00m \u001b[38;5;28;01mimport\u001b[39;00m Counter\n\u001b[1;32m      2\u001b[0m label_counter \u001b[38;5;241m=\u001b[39m Counter()\n\u001b[0;32m----> 4\u001b[0m \u001b[38;5;28;01mfor\u001b[39;00m doc \u001b[38;5;129;01min\u001b[39;00m \u001b[43mtrain\u001b[49m:\n\u001b[1;32m      5\u001b[0m     \u001b[38;5;28;01mfor\u001b[39;00m h, t, r \u001b[38;5;129;01min\u001b[39;00m doc[\u001b[38;5;124m\"\u001b[39m\u001b[38;5;124mlabels\u001b[39m\u001b[38;5;124m\"\u001b[39m]:\n\u001b[1;32m      6\u001b[0m         label_counter[r] \u001b[38;5;241m+\u001b[39m\u001b[38;5;241m=\u001b[39m \u001b[38;5;241m1\u001b[39m\n",
      "\u001b[0;31mNameError\u001b[0m: name 'train' is not defined"
     ]
    }
   ],
   "source": [
    "\n"
   ]
  },
  {
   "cell_type": "code",
   "execution_count": null,
   "id": "2ee2bd05",
   "metadata": {},
   "outputs": [],
   "source": []
  }
 ],
 "metadata": {
  "kernelspec": {
   "display_name": "Python 3 (ipykernel)",
   "language": "python",
   "name": "python3"
  },
  "language_info": {
   "codemirror_mode": {
    "name": "ipython",
    "version": 3
   },
   "file_extension": ".py",
   "mimetype": "text/x-python",
   "name": "python",
   "nbconvert_exporter": "python",
   "pygments_lexer": "ipython3",
   "version": "3.8.10"
  }
 },
 "nbformat": 4,
 "nbformat_minor": 5
}
